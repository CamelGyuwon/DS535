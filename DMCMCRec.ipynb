{
 "cells": [
  {
   "cell_type": "code",
   "execution_count": 1,
   "metadata": {},
   "outputs": [
    {
     "name": "stdout",
     "output_type": "stream",
     "text": [
      "args: Namespace(act_func='tanh', anneal_cap=0.005, anneal_steps=500, batch_size=400, cuda=False, data_path='../datasets/ml-1m_clean/', dataset='ml-1m_clean', emb_path='../datasets/', emb_size=10, epochs=1000, gpu='0', in_dims='[300]', lamda=0.03, log_name='log', lr1=0.001, lr2=0.0005, mean_type='x0', mlp_act_func='tanh', mlp_dims='[300]', n_cate=2, noise_max=0.02, noise_min=0.005, noise_scale=0.005, noise_schedule='linear-var', norm=False, optimizer1='AdamW', optimizer2='AdamW', out_dims='[]', reparam=True, reweight=False, round=1, sampling_noise=False, sampling_steps=40, save_path='./saved_models/', steps=40, time_type='cat', topN='[10, 20, 50, 100]', tst_w_val=False, vae_anneal_cap=0.3, vae_anneal_steps=200, wd1=0.0, wd2=0.0)\n"
     ]
    }
   ],
   "source": [
    "\"\"\"\n",
    "Train a diffusion model for recommendation\n",
    "\"\"\"\n",
    "\n",
    "import argparse\n",
    "from ast import parse\n",
    "import os\n",
    "import time\n",
    "import numpy as np\n",
    "import copy\n",
    "\n",
    "import torch\n",
    "import torch.nn as nn\n",
    "import torch.optim as optim\n",
    "import torch.utils.data as data\n",
    "from torch.utils.data import DataLoader\n",
    "import torch.backends.cudnn as cudnn\n",
    "import torch.nn.functional as F\n",
    "from models.Autoencoder import AutoEncoder as AE\n",
    "from models.Autoencoder import compute_loss\n",
    "\n",
    "import models.gaussian_diffusion as gd\n",
    "from models.DNN import DNN\n",
    "import evaluate_utils\n",
    "import data_utils\n",
    "from copy import deepcopy\n",
    "\n",
    "import random\n",
    "random_seed = 1\n",
    "torch.manual_seed(random_seed) # cpu\n",
    "torch.cuda.manual_seed(random_seed) # gpu\n",
    "np.random.seed(random_seed) # numpy\n",
    "random.seed(random_seed) # random and transforms\n",
    "torch.backends.cudnn.deterministic=True # cudnn\n",
    "def worker_init_fn(worker_id):\n",
    "    np.random.seed(random_seed + worker_id)\n",
    "def seed_worker(worker_id):\n",
    "    worker_seed = torch.initial_seed() % 2**32\n",
    "    np.random.seed(worker_seed)\n",
    "\n",
    "parser = argparse.ArgumentParser()\n",
    "parser.add_argument('--dataset', type=str, default='ml-1m_clean', help='choose the dataset')\n",
    "parser.add_argument('--data_path', type=str, default='../datasets/ml-1m_clean/', help='load data path')\n",
    "parser.add_argument('--emb_path', type=str, default='../datasets/')\n",
    "parser.add_argument('--lr1', type=float, default=0.001, help='learning rate for Autoencoder')\n",
    "parser.add_argument('--lr2', type=float, default=0.0005, help='learning rate for MLP')\n",
    "parser.add_argument('--wd1', type=float, default=0.0, help='weight decay for Autoencoder')\n",
    "parser.add_argument('--wd2', type=float, default=0.0, help='weight decay for MLP')\n",
    "parser.add_argument('--batch_size', type=int, default=400)\n",
    "parser.add_argument('--epochs', type=int, default=1000, help='upper epoch limit')\n",
    "parser.add_argument('--topN', type=str, default='[10, 20, 50, 100]')\n",
    "parser.add_argument('--tst_w_val', action='store_true', help='test with validation')\n",
    "parser.add_argument('--cuda', action='store_true', help='use CUDA')\n",
    "parser.add_argument('--gpu', type=str, default='0', help='gpu card ID')\n",
    "parser.add_argument('--save_path', type=str, default='./saved_models/', help='save model path')\n",
    "parser.add_argument('--log_name', type=str, default='log', help='the log name')\n",
    "parser.add_argument('--round', type=int, default=1, help='record the experiment')\n",
    "\n",
    "# parser.add_argument('--dataset', type=str, default='ml-1m_clean', help='choose the dataset')\n",
    "# parser.add_argument('--data_path', type=str, default='../datasets/ml-1m_clean/', help='load data path')\n",
    "# parser.add_argument('--emb_path', type=str, default='../datasets/')\n",
    "# parser.add_argument('--lr', type=float, default=5e-5, help='learning rate')\n",
    "# parser.add_argument('--weight_decay', type=float, default=0.0)\n",
    "# parser.add_argument('--batch_size', type=int, default=400)\n",
    "# parser.add_argument('--epochs', type=int, default=1000, help='upper epoch limit')\n",
    "# parser.add_argument('--topN', type=str, default='[10, 20, 50, 100]')\n",
    "# parser.add_argument('--tst_w_val', action='store_true', help='test with validation')\n",
    "# parser.add_argument('--cuda', action='store_true', help='use CUDA')\n",
    "# parser.add_argument('--gpu', type=str, default='0', help='gpu card ID')\n",
    "# parser.add_argument('--save_path', type=str, default='./saved_models/', help='save model path')\n",
    "# parser.add_argument('--log_name', type=str, default='log', help='the log name')\n",
    "# parser.add_argument('--round', type=int, default=1, help='record the experiment')\n",
    "\n",
    "# # params for the model\n",
    "# parser.add_argument('--time_type', type=str, default='cat', help='cat or add')\n",
    "# parser.add_argument('--dims', type=str, default='[1000]', help='the dims for the DNN')\n",
    "# parser.add_argument('--norm', type=bool, default=False, help='Normalize the input or not')\n",
    "# parser.add_argument('--emb_size', type=int, default=10, help='timestep embedding size')\n",
    "\n",
    "# params for diffusion\n",
    "parser.add_argument('--mean_type', type=str, default='x0', help='MeanType for diffusion: x0, eps')\n",
    "parser.add_argument('--steps', type=int, default=40, help='diffusion steps')\n",
    "parser.add_argument('--noise_schedule', type=str, default='linear-var', help='the schedule for noise generating')\n",
    "parser.add_argument('--noise_scale', type=float, default=0.005, help='noise scale for noise generating')\n",
    "parser.add_argument('--noise_min', type=float, default=0.005, help='noise lower bound for noise generating')\n",
    "parser.add_argument('--noise_max', type=float, default=0.02, help='noise upper bound for noise generating')\n",
    "parser.add_argument('--sampling_noise', type=bool, default=False, help='sampling with noise or not')\n",
    "parser.add_argument('--sampling_steps', type=int, default=40, help='steps of the forward process during inference')\n",
    "parser.add_argument('--reweight', type=bool, default=False, help='assign different weight to different timestep or not')\n",
    "\n",
    "# params for the Autoencoder\n",
    "parser.add_argument('--n_cate', type=int, default=2, help='category num of items')\n",
    "parser.add_argument('--in_dims', type=str, default='[300]', help='the dims for the encoder')\n",
    "parser.add_argument('--out_dims', type=str, default='[]', help='the hidden dims for the decoder')\n",
    "parser.add_argument('--act_func', type=str, default='tanh', help='activation function for autoencoder')\n",
    "parser.add_argument('--lamda', type=float, default=0.03, help='hyper-parameter of multinomial log-likelihood for AE: 0.01, 0.02, 0.03, 0.05')\n",
    "parser.add_argument('--optimizer1', type=str, default='AdamW', help='optimizer for AE: Adam, AdamW, SGD, Adagrad, Momentum')\n",
    "parser.add_argument('--anneal_cap', type=float, default=0.005)\n",
    "parser.add_argument('--anneal_steps', type=int, default=500)\n",
    "parser.add_argument('--vae_anneal_cap', type=float, default=0.3)\n",
    "parser.add_argument('--vae_anneal_steps', type=int, default=200)\n",
    "parser.add_argument('--reparam', type=bool, default=True, help=\"Autoencoder with variational inference or not\")\n",
    "\n",
    "# params for the MLP\n",
    "parser.add_argument('--time_type', type=str, default='cat', help='cat or add')\n",
    "parser.add_argument('--mlp_dims', type=str, default='[300]', help='the dims for the DNN')\n",
    "parser.add_argument('--norm', type=bool, default=False, help='Normalize the input or not')\n",
    "parser.add_argument('--emb_size', type=int, default=10, help='timestep embedding size')\n",
    "parser.add_argument('--mlp_act_func', type=str, default='tanh', help='the activation function for MLP')\n",
    "parser.add_argument('--optimizer2', type=str, default='AdamW', help='optimizer for MLP: Adam, AdamW, SGD, Adagrad, Momentum')\n",
    "\n",
    "\n",
    "args = parser.parse_args(args=[])\n",
    "print(\"args:\", args)"
   ]
  },
  {
   "cell_type": "code",
   "execution_count": 2,
   "metadata": {},
   "outputs": [],
   "source": [
    "args.steps = 40\n",
    "args.noise_scale = 0.005\n",
    "args.noise_min = 0.005\n",
    "args.noise_max = 0.02\n"
   ]
  },
  {
   "cell_type": "code",
   "execution_count": 3,
   "metadata": {},
   "outputs": [
    {
     "name": "stdout",
     "output_type": "stream",
     "text": [
      "device:  cuda\n",
      "Starting time:  2024-12-07 17:55:29\n",
      "user num: 5949\n",
      "item num: 2810\n",
      "data ready.\n",
      "running k-means on cuda..\n"
     ]
    },
    {
     "name": "stderr",
     "output_type": "stream",
     "text": [
      "[running kmeans]: 9it [00:00, 284.14it/s, center_shift=0.000056, iteration=9, tol=0.000100]"
     ]
    },
    {
     "name": "stdout",
     "output_type": "stream",
     "text": [
      "category length:  [1850, 960]\n",
      "Latent dims of each category:  [[197], [103]]\n"
     ]
    },
    {
     "name": "stderr",
     "output_type": "stream",
     "text": [
      "\n"
     ]
    }
   ],
   "source": [
    "### args.steps을 classify하는 discriminative model이 필요\n",
    "### gaussian diffusion의 1. sample_timesteps(self, batch_size, device, method='uniform', uniform_prob=0.001) 2. q_sample(self, x_start, t, noise=None) 함수를 사용\n",
    "### dataloader for batch_idx, batch in enumerate(train_loader):\n",
    "\n",
    "args.cuda = True\n",
    "args.gpu = '3'\n",
    "os.environ[\"CUDA_VISIBLE_DEVICES\"] = args.gpu\n",
    "\n",
    "device = torch.device(\"cuda\" if args.cuda else \"cpu\")\n",
    "print('device: ', device)\n",
    "\n",
    "print(\"Starting time: \", time.strftime('%Y-%m-%d %H:%M:%S',time.localtime(time.time())))\n",
    "\n",
    "### DATA LOAD ###\n",
    "train_path = args.data_path + 'train_list.npy'\n",
    "valid_path = args.data_path + 'valid_list.npy'\n",
    "test_path = args.data_path + 'test_list.npy'\n",
    "\n",
    "train_data, valid_y_data, test_y_data, n_user, n_item = data_utils.data_load(train_path, valid_path, test_path)\n",
    "train_dataset = data_utils.DataDiffusion(torch.FloatTensor(train_data.A))\n",
    "train_loader = DataLoader(train_dataset, batch_size=args.batch_size, pin_memory=True, shuffle=True, num_workers=4, worker_init_fn=worker_init_fn)\n",
    "test_loader = DataLoader(train_dataset, batch_size=args.batch_size, shuffle=False)\n",
    "\n",
    "if args.tst_w_val:\n",
    "    tv_dataset = data_utils.DataDiffusion(torch.FloatTensor(train_data.A) + torch.FloatTensor(valid_y_data.A))\n",
    "    test_twv_loader = DataLoader(tv_dataset, batch_size=args.batch_size, shuffle=False)\n",
    "mask_tv = train_data + valid_y_data\n",
    "\n",
    "print('data ready.')\n",
    "\n",
    "### Build Autoencoder ###\n",
    "emb_path = args.emb_path + args.dataset + '/item_emb.npy'\n",
    "item_emb = torch.from_numpy(np.load(emb_path, allow_pickle=True))\n",
    "assert len(item_emb) == n_item\n",
    "out_dims = eval(args.out_dims)\n",
    "in_dims = eval(args.in_dims)[::-1]\n",
    "Autoencoder = AE(item_emb, args.n_cate, in_dims, out_dims, device, args.act_func, args.reparam).to(device)\n",
    "\n",
    "\n",
    "### Build Gaussian Diffusion ###\n",
    "if args.mean_type == 'x0':\n",
    "    mean_type = gd.ModelMeanType.START_X\n",
    "elif args.mean_type == 'eps':\n",
    "    mean_type = gd.ModelMeanType.EPSILON\n",
    "else:\n",
    "    raise ValueError(\"Unimplemented mean type %s\" % args.mean_type)\n",
    "\n",
    "diffusion = gd.GaussianDiffusion(mean_type, args.noise_schedule, \\\n",
    "        args.noise_scale, args.noise_min, args.noise_max, args.steps, device).to(device)\n",
    "\n",
    "# ### Build MLP ###\n",
    "### Build MLP ###\n",
    "latent_size = in_dims[-1]\n",
    "mlp_out_dims = eval(args.mlp_dims) + [latent_size]\n",
    "mlp_in_dims = mlp_out_dims[::-1]\n",
    "model = DNN(mlp_in_dims, mlp_out_dims, args.emb_size, time_type=\"cat\", norm=args.norm, act_func=args.mlp_act_func).to(device)\n",
    "\n",
    "# optimizer = optim.AdamW(model.parameters(), lr=args.lr, weight_decay=args.weight_decay)\n",
    "# print(\"models ready.\")\n",
    "\n",
    "# param_num = 0\n",
    "# mlp_num = sum([param.nelement() for param in model.parameters()])\n",
    "# diff_num = sum([param.nelement() for param in diffusion.parameters()])  # diffusion에 parameter없음 ==> 0\n",
    "# param_num = mlp_num + diff_num\n",
    "# print(\"Number of all parameters:\", param_num)"
   ]
  },
  {
   "cell_type": "code",
   "execution_count": 4,
   "metadata": {},
   "outputs": [
    {
     "data": {
      "text/plain": [
       "[300]"
      ]
     },
     "execution_count": 4,
     "metadata": {},
     "output_type": "execute_result"
    }
   ],
   "source": [
    "in_dims"
   ]
  },
  {
   "cell_type": "code",
   "execution_count": 5,
   "metadata": {},
   "outputs": [
    {
     "data": {
      "text/plain": [
       "[300, 300]"
      ]
     },
     "execution_count": 5,
     "metadata": {},
     "output_type": "execute_result"
    }
   ],
   "source": [
    "mlp_in_dims"
   ]
  },
  {
   "cell_type": "code",
   "execution_count": 6,
   "metadata": {},
   "outputs": [
    {
     "name": "stdout",
     "output_type": "stream",
     "text": [
      "DNN(\n",
      "  (emb_layer): Linear(in_features=10, out_features=10, bias=True)\n",
      "  (in_layers): Sequential(\n",
      "    (0): Linear(in_features=310, out_features=300, bias=True)\n",
      "    (1): Tanh()\n",
      "  )\n",
      "  (out_layers): Sequential(\n",
      "    (0): Linear(in_features=300, out_features=300, bias=True)\n",
      "  )\n",
      "  (dropout): Dropout(p=0.5, inplace=False)\n",
      ")\n"
     ]
    }
   ],
   "source": [
    "print(model)"
   ]
  },
  {
   "cell_type": "code",
   "execution_count": 8,
   "metadata": {},
   "outputs": [
    {
     "name": "stdout",
     "output_type": "stream",
     "text": [
      "TCLS(\n",
      "  (in_layers): ModuleList(\n",
      "    (0): Linear(in_features=300, out_features=300, bias=True)\n",
      "  )\n",
      "  (out_layer): Linear(in_features=300, out_features=40, bias=True)\n",
      "  (drop): Dropout(p=0.5, inplace=False)\n",
      ")\n"
     ]
    }
   ],
   "source": [
    "from models.DNN import TCLS\n",
    "\n",
    "time_classifier = TCLS(mlp_in_dims, args.steps)\n",
    "time_classifier = time_classifier.to(device)\n",
    "print(time_classifier)\n",
    "time_optimizer = optim.Adam(time_classifier.parameters(), lr=0.001)\n",
    "time_criterion = nn.CrossEntropyLoss()"
   ]
  },
  {
   "cell_type": "code",
   "execution_count": 9,
   "metadata": {},
   "outputs": [
    {
     "data": {
      "text/plain": [
       "102340"
      ]
     },
     "execution_count": 9,
     "metadata": {},
     "output_type": "execute_result"
    }
   ],
   "source": [
    "cls_num = sum([param.nelement() for param in time_classifier.parameters()])\n",
    "cls_num             "
   ]
  },
  {
   "cell_type": "code",
   "execution_count": 10,
   "metadata": {},
   "outputs": [],
   "source": [
    "model_path = \"./saved_models/\"\n",
    "if args.dataset == \"amazon-book_clean\":\n",
    "    model_name = \"/amazon-book_clean_0.0005lr1_0.0001lr2_0.0wd1_0.0wd2_bs400_cate2_in[300]_out[]_lam0.05_dims[300]_emb10_x0_steps5_scale0.5_min0.001_max0.005_sample0_reweight1_log.pth\"\n",
    "    AE_name = \"/amazon-book_clean_0.0005lr1_0.0001lr2_0.0wd1_0.0wd2_bs400_cate2_in[300]_out[]_lam0.05_dims[300]_emb10_x0_steps5_scale0.5_min0.001_max0.005_sample0_reweight1_log_AE.pth\"\n",
    "elif args.dataset == \"yelp_clean\":\n",
    "    model_name = \"/yelp_clean_0.0005lr1_0.0001lr2_0.0wd1_0.0wd2_bs400_cate2_in[300]_out[]_lam0.03_dims[300]_emb10_x0_steps5_scale0.01_min0.005_max0.01_sample0_reweight0_log.pth\"\n",
    "    AE_name = \"/yelp_clean_0.0005lr1_0.0001lr2_0.0wd1_0.0wd2_bs400_cate2_in[300]_out[]_lam0.03_dims[300]_emb10_x0_steps5_scale0.01_min0.005_max0.01_sample0_reweight0_log_AE.pth\"\n",
    "elif args.dataset == \"ml-1m_clean\":\n",
    "    model_name = \"/ml-1m_clean_0.001lr1_0.0005lr2_0.0wd1_0.0wd2_bs400_cate2_in[300]_out[]_lam0.03_dims[300]_emb10_x0_steps40_scale0.005_min0.005_max0.02_sample0_reweight1_log.pth\"\n",
    "    AE_name = \"/ml-1m_clean_0.001lr1_0.0005lr2_0.0wd1_0.0wd2_bs400_cate2_in[300]_out[]_lam0.03_dims[300]_emb10_x0_steps40_scale0.005_min0.005_max0.02_sample0_reweight1_log_AE.pth\""
   ]
  },
  {
   "cell_type": "code",
   "execution_count": 11,
   "metadata": {},
   "outputs": [
    {
     "name": "stdout",
     "output_type": "stream",
     "text": [
      "AutoEncoder(\n",
      "  (dropout): Dropout(p=0.1, inplace=False)\n",
      "  (encoder): ModuleList(\n",
      "    (0): Sequential(\n",
      "      (0): Linear(in_features=1850, out_features=394, bias=True)\n",
      "      (1): Tanh()\n",
      "    )\n",
      "    (1): Sequential(\n",
      "      (0): Linear(in_features=960, out_features=206, bias=True)\n",
      "      (1): Tanh()\n",
      "    )\n",
      "  )\n",
      "  (decoder): Sequential(\n",
      "    (0): Linear(in_features=300, out_features=2810, bias=True)\n",
      "  )\n",
      ")\n"
     ]
    }
   ],
   "source": [
    "Autoencoder = torch.load(model_path + args.dataset + AE_name).to(device)\n",
    "print(Autoencoder)"
   ]
  },
  {
   "cell_type": "code",
   "execution_count": 12,
   "metadata": {},
   "outputs": [
    {
     "name": "stderr",
     "output_type": "stream",
     "text": [
      "  0%|          | 1/1001 [00:01<23:14,  1.39s/it]"
     ]
    },
    {
     "name": "stdout",
     "output_type": "stream",
     "text": [
      "Epoch 0, Loss: 3.6889\n"
     ]
    },
    {
     "name": "stderr",
     "output_type": "stream",
     "text": [
      "  5%|▌         | 51/1001 [00:21<06:53,  2.30it/s]"
     ]
    },
    {
     "name": "stdout",
     "output_type": "stream",
     "text": [
      "Epoch 50, Loss: 3.6096\n"
     ]
    },
    {
     "name": "stderr",
     "output_type": "stream",
     "text": [
      " 10%|█         | 101/1001 [00:42<05:52,  2.56it/s]"
     ]
    },
    {
     "name": "stdout",
     "output_type": "stream",
     "text": [
      "Epoch 100, Loss: 3.4387\n"
     ]
    },
    {
     "name": "stderr",
     "output_type": "stream",
     "text": [
      " 15%|█▌        | 151/1001 [01:02<05:56,  2.38it/s]"
     ]
    },
    {
     "name": "stdout",
     "output_type": "stream",
     "text": [
      "Epoch 150, Loss: 3.2896\n"
     ]
    },
    {
     "name": "stderr",
     "output_type": "stream",
     "text": [
      " 20%|██        | 201/1001 [01:22<05:08,  2.59it/s]"
     ]
    },
    {
     "name": "stdout",
     "output_type": "stream",
     "text": [
      "Epoch 200, Loss: 3.1936\n"
     ]
    },
    {
     "name": "stderr",
     "output_type": "stream",
     "text": [
      " 25%|██▌       | 251/1001 [01:44<05:02,  2.48it/s]"
     ]
    },
    {
     "name": "stdout",
     "output_type": "stream",
     "text": [
      "Epoch 250, Loss: 3.1284\n"
     ]
    },
    {
     "name": "stderr",
     "output_type": "stream",
     "text": [
      " 30%|███       | 301/1001 [02:04<04:43,  2.47it/s]"
     ]
    },
    {
     "name": "stdout",
     "output_type": "stream",
     "text": [
      "Epoch 300, Loss: 3.0644\n"
     ]
    },
    {
     "name": "stderr",
     "output_type": "stream",
     "text": [
      " 35%|███▌      | 351/1001 [02:25<04:20,  2.49it/s]"
     ]
    },
    {
     "name": "stdout",
     "output_type": "stream",
     "text": [
      "Epoch 350, Loss: 3.0275\n"
     ]
    },
    {
     "name": "stderr",
     "output_type": "stream",
     "text": [
      " 40%|████      | 401/1001 [02:45<04:09,  2.40it/s]"
     ]
    },
    {
     "name": "stdout",
     "output_type": "stream",
     "text": [
      "Epoch 400, Loss: 2.9841\n"
     ]
    },
    {
     "name": "stderr",
     "output_type": "stream",
     "text": [
      " 45%|████▌     | 451/1001 [03:05<03:47,  2.42it/s]"
     ]
    },
    {
     "name": "stdout",
     "output_type": "stream",
     "text": [
      "Epoch 450, Loss: 2.9570\n"
     ]
    },
    {
     "name": "stderr",
     "output_type": "stream",
     "text": [
      " 50%|█████     | 501/1001 [03:26<03:31,  2.36it/s]"
     ]
    },
    {
     "name": "stdout",
     "output_type": "stream",
     "text": [
      "Epoch 500, Loss: 2.9320\n"
     ]
    },
    {
     "name": "stderr",
     "output_type": "stream",
     "text": [
      " 55%|█████▌    | 551/1001 [03:46<02:49,  2.66it/s]"
     ]
    },
    {
     "name": "stdout",
     "output_type": "stream",
     "text": [
      "Epoch 550, Loss: 2.9080\n"
     ]
    },
    {
     "name": "stderr",
     "output_type": "stream",
     "text": [
      " 60%|██████    | 601/1001 [04:06<02:39,  2.50it/s]"
     ]
    },
    {
     "name": "stdout",
     "output_type": "stream",
     "text": [
      "Epoch 600, Loss: 2.8938\n"
     ]
    },
    {
     "name": "stderr",
     "output_type": "stream",
     "text": [
      " 65%|██████▌   | 651/1001 [04:27<02:32,  2.30it/s]"
     ]
    },
    {
     "name": "stdout",
     "output_type": "stream",
     "text": [
      "Epoch 650, Loss: 2.8780\n"
     ]
    },
    {
     "name": "stderr",
     "output_type": "stream",
     "text": [
      " 70%|███████   | 701/1001 [04:48<02:02,  2.45it/s]"
     ]
    },
    {
     "name": "stdout",
     "output_type": "stream",
     "text": [
      "Epoch 700, Loss: 2.8647\n"
     ]
    },
    {
     "name": "stderr",
     "output_type": "stream",
     "text": [
      " 75%|███████▌  | 751/1001 [05:08<01:43,  2.41it/s]"
     ]
    },
    {
     "name": "stdout",
     "output_type": "stream",
     "text": [
      "Epoch 750, Loss: 2.8404\n"
     ]
    },
    {
     "name": "stderr",
     "output_type": "stream",
     "text": [
      " 80%|████████  | 801/1001 [05:29<01:20,  2.47it/s]"
     ]
    },
    {
     "name": "stdout",
     "output_type": "stream",
     "text": [
      "Epoch 800, Loss: 2.8361\n"
     ]
    },
    {
     "name": "stderr",
     "output_type": "stream",
     "text": [
      " 85%|████████▌ | 851/1001 [05:49<01:04,  2.32it/s]"
     ]
    },
    {
     "name": "stdout",
     "output_type": "stream",
     "text": [
      "Epoch 850, Loss: 2.8193\n"
     ]
    },
    {
     "name": "stderr",
     "output_type": "stream",
     "text": [
      " 90%|█████████ | 901/1001 [06:09<00:39,  2.51it/s]"
     ]
    },
    {
     "name": "stdout",
     "output_type": "stream",
     "text": [
      "Epoch 900, Loss: 2.8134\n"
     ]
    },
    {
     "name": "stderr",
     "output_type": "stream",
     "text": [
      " 95%|█████████▌| 951/1001 [06:29<00:19,  2.56it/s]"
     ]
    },
    {
     "name": "stdout",
     "output_type": "stream",
     "text": [
      "Epoch 950, Loss: 2.8080\n"
     ]
    },
    {
     "name": "stderr",
     "output_type": "stream",
     "text": [
      "100%|██████████| 1001/1001 [06:49<00:00,  2.44it/s]"
     ]
    },
    {
     "name": "stdout",
     "output_type": "stream",
     "text": [
      "Epoch 1000, Loss: 2.8058\n"
     ]
    },
    {
     "name": "stderr",
     "output_type": "stream",
     "text": [
      "\n"
     ]
    }
   ],
   "source": [
    "from tqdm import tqdm\n",
    "\n",
    "epochs = 1001\n",
    "log_interval = 50\n",
    "save_path = './checkpoints/'\n",
    "\n",
    "if not os.path.exists(save_path):\n",
    "    os.makedirs(save_path)\n",
    "\n",
    "## the version of the classifier network / you have to change the number of the version\n",
    "version = 2\n",
    "\n",
    "time_classifier.train()\n",
    "for epoch in tqdm(range(epochs)):\n",
    "    running_loss = 0.0\n",
    "    for batch_idx, batch in enumerate(train_loader):\n",
    "        time_optimizer.zero_grad()\n",
    "        batch = batch.to(device)\n",
    "        batch_cate, batch_latent, vae_kl = Autoencoder.Encode(batch)\n",
    "        ts, _ = diffusion.sample_timesteps(batch_latent.shape[0], device)\n",
    "        batch_ts = diffusion.q_sample(batch_latent, ts).to(device)\n",
    "        logits = time_classifier(batch_ts-batch_latent)\n",
    "        loss = time_criterion(logits, ts)\n",
    "        loss.backward()\n",
    "        time_optimizer.step()\n",
    "\n",
    "        running_loss += loss.item()\n",
    "\n",
    "    if epoch % log_interval == 0:\n",
    "        print(f\"Epoch {epoch}, Loss: {running_loss/len(train_loader):.4f}\")\n",
    "        checkpoint_path = f\"{save_path}{args.dataset}_time_classifier_epoch_{epoch}_steps{args.steps}_min{args.noise_min}_max{args.noise_max}_latent_ver{version}.pth\"\n",
    "        torch.save(time_classifier.state_dict(), checkpoint_path)"
   ]
  },
  {
   "cell_type": "code",
   "execution_count": 14,
   "metadata": {},
   "outputs": [
    {
     "data": {
      "text/plain": [
       "TCLS(\n",
       "  (in_layers): ModuleList(\n",
       "    (0): Linear(in_features=300, out_features=300, bias=True)\n",
       "  )\n",
       "  (out_layer): Linear(in_features=300, out_features=40, bias=True)\n",
       "  (drop): Dropout(p=0.5, inplace=False)\n",
       ")"
      ]
     },
     "execution_count": 14,
     "metadata": {},
     "output_type": "execute_result"
    }
   ],
   "source": [
    "time_classifier = TCLS(mlp_in_dims, args.steps)\n",
    "time_classifier.load_state_dict(torch.load('./checkpoints/ml-1m_clean_time_classifier_epoch_1000_steps40_min0.005_max0.02_latent_ver2.pth'))\n",
    "time_classifier.eval()"
   ]
  },
  {
   "cell_type": "code",
   "execution_count": 16,
   "metadata": {},
   "outputs": [
    {
     "data": {
      "text/plain": [
       "[300, 300]"
      ]
     },
     "execution_count": 16,
     "metadata": {},
     "output_type": "execute_result"
    }
   ],
   "source": [
    "mlp_in_dims"
   ]
  },
  {
   "cell_type": "code",
   "execution_count": 10,
   "metadata": {},
   "outputs": [],
   "source": [
    "def compute_entropy_batch(logits):\n",
    "    \"\"\"\n",
    "    배치에 대해 엔트로피 값을 계산하는 함수.\n",
    "    \n",
    "    Arguments:\n",
    "    probabilities -- (5000, 1000) 크기의 확률 분포 (Tensor)\n",
    "    \n",
    "    Returns:\n",
    "    entropies -- (5000, 1) 크기의 엔트로피 값들 (Tensor)\n",
    "    \"\"\"\n",
    "    # 엔트로피 계산 (각 이미지마다 엔트로피를 계산)\n",
    "    probabilities = F.softmax(logits, dim=1)\n",
    "    entropies = -torch.sum(probabilities * torch.log(probabilities + 1e-10), dim=1, keepdim=True)\n",
    "    return entropies"
   ]
  },
  {
   "cell_type": "code",
   "execution_count": 8,
   "metadata": {},
   "outputs": [],
   "source": [
    "### test_loader에서 batch 꺼내서 time classifier의 엔트로피 및 acc@k 분석\n",
    "\n",
    "def evaluate_accuracy_k(classifier, testloader, k, timestep):\n",
    "    classifier.eval()\n",
    "    correct = 0\n",
    "    total = 0\n",
    "\n",
    "    with torch.no_grad():\n",
    "        for batch_idx, batch in tqdm(enumerate(testloader)):\n",
    "            batch = batch.to(device)\n",
    "            ts = torch.full((batch.shape[0],), timestep).to(device)\n",
    "            batch_ts = diffusion.q_sample(batch, ts).to(device)\n",
    "            logits = classifier(batch_ts-batch)\n",
    "\n",
    "            _, topk_preds = torch.topk(logits, k, dim = 1)\n",
    "\n",
    "            correct += torch.sum(topk_preds.eq(ts.view(-1,1).expand_as(topk_preds))).item()\n",
    "            total += batch.shape[0]\n",
    "        accuracy = correct / total *100.\n",
    "        print(f\"Top-{k} Accuracy on the test set at timestep {timestep}: {accuracy:.2f}%\")\n",
    "        return accuracy"
   ]
  },
  {
   "cell_type": "code",
   "execution_count": 15,
   "metadata": {},
   "outputs": [
    {
     "name": "stderr",
     "output_type": "stream",
     "text": [
      "273it [00:34,  7.98it/s]\n"
     ]
    },
    {
     "name": "stdout",
     "output_type": "stream",
     "text": [
      "Top-2 Accuracy on the test set at timestep 0: 100.00%\n"
     ]
    },
    {
     "name": "stderr",
     "output_type": "stream",
     "text": [
      "273it [00:32,  8.30it/s]\n"
     ]
    },
    {
     "name": "stdout",
     "output_type": "stream",
     "text": [
      "Top-2 Accuracy on the test set at timestep 1: 100.00%\n"
     ]
    },
    {
     "name": "stderr",
     "output_type": "stream",
     "text": [
      "273it [00:28,  9.74it/s]\n"
     ]
    },
    {
     "name": "stdout",
     "output_type": "stream",
     "text": [
      "Top-2 Accuracy on the test set at timestep 2: 97.09%\n"
     ]
    },
    {
     "name": "stderr",
     "output_type": "stream",
     "text": [
      "273it [00:32,  8.33it/s]\n"
     ]
    },
    {
     "name": "stdout",
     "output_type": "stream",
     "text": [
      "Top-2 Accuracy on the test set at timestep 3: 29.86%\n"
     ]
    },
    {
     "name": "stderr",
     "output_type": "stream",
     "text": [
      "273it [00:31,  8.76it/s]\n"
     ]
    },
    {
     "name": "stdout",
     "output_type": "stream",
     "text": [
      "Top-2 Accuracy on the test set at timestep 4: 10.21%\n"
     ]
    },
    {
     "data": {
      "image/png": "[encoded data removed]",
      "text/plain": [
       "<Figure size 800x500 with 1 Axes>"
      ]
     },
     "metadata": {},
     "output_type": "display_data"
    }
   ],
   "source": [
    "import matplotlib.pyplot as plt\n",
    "\n",
    "k = 2\n",
    "acc_k_arr = []\n",
    "for ts in range(args.steps):\n",
    "    accuracy = evaluate_accuracy_k(time_classifier, test_loader, k=k, timestep=ts)\n",
    "    acc_k_arr.append(accuracy)\n",
    "\n",
    "plt.figure(figsize=(8, 5))\n",
    "plt.plot(range(args.steps), acc_k_arr, marker='o', linestyle='-', color='b')\n",
    "plt.xlabel('time step')\n",
    "plt.ylabel('Acc@1')\n",
    "plt.xticks(range(args.steps))  # 인덱스 값 표시\n",
    "plt.show()"
   ]
  },
  {
   "cell_type": "code",
   "execution_count": 11,
   "metadata": {},
   "outputs": [],
   "source": [
    "def compute_entropy_statistics(classifier, testloader, timestep):\n",
    "    \"\"\"\n",
    "    test_dataloader의 모든 샘플에 대해 엔트로피 평균과 분산을 계산하는 함수.\n",
    "    \n",
    "    Arguments:\n",
    "    classifier -- 확률 분포(logits)를 출력하는 분류기 모델\n",
    "    test_dataloader -- 테스트 데이터 로더\n",
    "    \n",
    "    Returns:\n",
    "    mean_entropy -- 모든 샘플의 엔트로피 평균\n",
    "    var_entropy -- 모든 샘플의 엔트로피 분산\n",
    "    \"\"\"\n",
    "    classifier.eval()  # 모델을 평가 모드로 전환\n",
    "    entropies = []\n",
    "\n",
    "    with torch.no_grad():\n",
    "        for batch in testloader:\n",
    "            batch = batch.to(device)  # GPU 사용 시\n",
    "            ts = torch.full((batch.shape[0],), timestep).to(device)\n",
    "            batch_ts = diffusion.q_sample(batch, ts).to(device)\n",
    "            logits = classifier(batch_ts)\n",
    "            batch_entropies = compute_entropy_batch(logits)\n",
    "            entropies.append(batch_entropies)\n",
    "\n",
    "    # 모든 배치의 엔트로피를 하나의 텐서로 결합\n",
    "    entropies = torch.cat(entropies, dim=0)  # (total_samples, 1) 크기의 텐서\n",
    "    \n",
    "    # 엔트로피 평균과 분산 계산\n",
    "    mean_entropy = entropies.mean().item()\n",
    "    var_entropy = entropies.var().item()\n",
    "    \n",
    "    print(f\"Entropy Mean: {mean_entropy:.4f}\")\n",
    "    print(f\"Entropy Variance: {var_entropy:.4f}\")\n",
    "    \n",
    "    return mean_entropy, var_entropy"
   ]
  },
  {
   "cell_type": "code",
   "execution_count": 12,
   "metadata": {},
   "outputs": [
    {
     "name": "stdout",
     "output_type": "stream",
     "text": [
      "Entropy Mean: 0.0622\n",
      "Entropy Variance: 0.0034\n",
      "Entropy Mean: 0.0845\n",
      "Entropy Variance: 0.0182\n",
      "Entropy Mean: 0.3667\n",
      "Entropy Variance: 0.0757\n",
      "Entropy Mean: 0.8038\n",
      "Entropy Variance: 0.0662\n",
      "Entropy Mean: 0.9560\n",
      "Entropy Variance: 0.0225\n"
     ]
    }
   ],
   "source": [
    "mean_entropy_arr = []\n",
    "var_entropy_arr = []\n",
    "for ts in range(args.steps):\n",
    "    mean_entropy, var_entropy = compute_entropy_statistics(time_classifier, test_loader, ts)\n",
    "    mean_entropy_arr.append(mean_entropy)\n",
    "    var_entropy_arr.append(var_entropy)"
   ]
  },
  {
   "cell_type": "code",
   "execution_count": 13,
   "metadata": {},
   "outputs": [
    {
     "data": {
      "image/png": "[encoded data removed]",
      "text/plain": [
       "<Figure size 1000x600 with 1 Axes>"
      ]
     },
     "metadata": {},
     "output_type": "display_data"
    }
   ],
   "source": [
    "plt.figure(figsize=(10, 6))\n",
    "\n",
    "plt.errorbar(range(args.steps), mean_entropy_arr, yerr=var_entropy_arr, fmt='-o', color='b', \n",
    "             ecolor='gray', elinewidth=2, capsize=4, label='Mean Entropy with Variance')\n",
    "\n",
    "# 라벨, 제목, 범례 추가\n",
    "plt.xlabel('time step')\n",
    "plt.ylabel('Entropy Value')\n",
    "plt.title('Mean Entropy with Variance as Error Bars')\n",
    "plt.legend()\n",
    "plt.grid()\n",
    "\n",
    "# 그래프 출력\n",
    "plt.show()"
   ]
  },
  {
   "cell_type": "code",
   "execution_count": 17,
   "metadata": {},
   "outputs": [
    {
     "name": "stdout",
     "output_type": "stream",
     "text": [
      "torch.Size([3])\n"
     ]
    }
   ],
   "source": [
    "t = torch.tensor([1] * 3)\n",
    "print(t.shape)"
   ]
  },
  {
   "cell_type": "code",
   "execution_count": null,
   "metadata": {},
   "outputs": [
    {
     "data": {
      "image/png": "[encoded data removed]",
      "text/plain": [
       "<Figure size 1000x500 with 2 Axes>"
      ]
     },
     "metadata": {},
     "output_type": "display_data"
    }
   ],
   "source": [
    "import matplotlib.pyplot as plt\n",
    "import numpy as np\n",
    "\n",
    "# Data for the first graph (s)\n",
    "s_values = [1, 2, 5]\n",
    "recall_s = [0.0992, 0.1047, 0.0816]\n",
    "ndcg_s = [0.0801, 0.0946, 0.0602]\n",
    "mcmc_p1 = [0.0493, 0.0583, 0.0427]\n",
    "\n",
    "# Data for the second graph (T)\n",
    "t_values = [1, 2, 5]\n",
    "recall_t = [0.1044, 0.1047, 0.1046]\n",
    "ndcg_t = [0.0939, 0.0946, 0.0943]\n",
    "mcmc_p2 = [0.0557, 0.0583, 0.0574]\n",
    "\n",
    "# Create the figure and subplots\n",
    "fig, axes = plt.subplots(1, 2, figsize=(10, 5))\n",
    "\n",
    "# Plot the first graph (s)\n",
    "axes[0].plot(s_values, recall_s, marker='s', label='DiffRec+LD', color='blue')\n",
    "axes[0].plot(s_values, ndcg_s, marker='d', label='DMCMCRec', color='green')\n",
    "axes[0].plot(s_values, mcmc_p1, marker='o', label='DMCMCRec++', color='orange')\n",
    "axes[0].set_xlabel('exploration length')\n",
    "axes[0].set_ylabel('Metrics')\n",
    "axes[0].set_title('(Recall@20 ↑)  (NDCG@20 ↑)')\n",
    "axes[0].legend(loc='lower right')\n",
    "axes[0].grid(True, axis='y', linestyle='--')\n",
    "axes[0].xticks([1,2,5])\n",
    "\n",
    "# Plot the second graph (T)\n",
    "axes[1].plot(t_values, recall_t, marker='s', label='DiffRec+LD', color='blue')\n",
    "axes[1].plot(t_values, ndcg_t, marker='d', label='DMCMCRec', color='green')\n",
    "axes[1].plot(t_values, mcmc_p2, marker='o', label='DMCMCRec++', color='orange')\n",
    "axes[1].set_xlabel('exploration number')\n",
    "axes[1].set_title('(Recall@20 ↑)')\n",
    "axes[1].legend(loc='lower right')\n",
    "axes[1].grid(True, axis='y', linestyle='--')\n",
    "axes[1].xticks([1,2,5])\n",
    "\n",
    "# Adjust the layout\n",
    "fig.suptitle('Effect of exploration length and exploration number.')\n",
    "plt.tight_layout()\n",
    "plt.show()\n"
   ]
  }
 ],
 "metadata": {
  "kernelspec": {
   "display_name": "diff",
   "language": "python",
   "name": "python3"
  },
  "language_info": {
   "codemirror_mode": {
    "name": "ipython",
    "version": 3
   },
   "file_extension": ".py",
   "mimetype": "text/x-python",
   "name": "python",
   "nbconvert_exporter": "python",
   "pygments_lexer": "ipython3",
   "version": "undefined.undefined.undefined"
  }
 },
 "nbformat": 4,
 "nbformat_minor": 2
}
